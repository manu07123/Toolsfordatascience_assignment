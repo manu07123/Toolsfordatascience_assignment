{
 "cells": [
  {
   "cell_type": "markdown",
   "id": "4db178ee-f5c3-466f-81a6-8ffce6c3d455",
   "metadata": {
    "tags": []
   },
   "source": [
    "<h1>Data Science Tools and Ecosystem</h1>"
   ]
  },
  {
   "cell_type": "markdown",
   "id": "b89cafdf-acef-41f1-955e-11689d665817",
   "metadata": {},
   "source": [
    "<h3>In this notebook, Data Science Tools and Ecosystem are summarized.</h3>"
   ]
  },
  {
   "cell_type": "markdown",
   "id": "2355fa0a-b319-4a11-82f5-f7b0f47c54bd",
   "metadata": {},
   "source": [
    "<h3>Some of the popular languages that Data Scientists use are:</h3>\n",
    "\n",
    "\n",
    "<ol>\n",
    "<li>Python</li>\n",
    "<li>Java</li>\n",
    "<li>JavScript</li>\n",
    "</ol>"
   ]
  },
  {
   "cell_type": "markdown",
   "id": "85832a03-c915-4f36-b9de-8ee82035516f",
   "metadata": {},
   "source": [
    "<h3>Some of the commonly used libraries used by Data Scientists include:</h3>\n",
    "\n",
    "<ol>\n",
    "<li>TensorFlow</li>\n",
    "<li>NumPy</li>\n",
    "<li>SciPy</li>\n",
    "</ol>"
   ]
  },
  {
   "cell_type": "markdown",
   "id": "597c5d5c-b77c-406e-8bbb-981cdc0f1ab8",
   "metadata": {},
   "source": [
    "| Data Science Tools|\n",
    "|:-----------------:|\n",
    "|      RStudio      | \n",
    "|:-----------------:|\n",
    "|    ApacheSpark    |\n",
    "|:-----------------:|\n",
    "|    TensorFlow     |"
   ]
  },
  {
   "cell_type": "code",
   "execution_count": null,
   "id": "7f1c4df9-8d61-47ef-8f4a-87221df7f8fe",
   "metadata": {},
   "outputs": [],
   "source": [
    "<h3>Below are a few examples of evaluating arithmetic expressions in Python</h3>\n",
    "\n",
    "<ul>\n",
    "<li>2+3*5</li>S\n",
    "<li>$\\sqrt(5)$</li>\n",
    "</ul>"
   ]
  },
  {
   "cell_type": "markdown",
   "id": "fdc88974-6fd3-44a1-8ad8-60600fedacf7",
   "metadata": {},
   "source": [
    "<h3>Below are a few examples of evaluating arithmetic expressions in Python</h3>\n",
    "\n",
    "<ul>\n",
    "<li>2+3*5</li>\n",
    "<li>$\\sqrt(5)$</li>\n",
    "</ul>"
   ]
  },
  {
   "cell_type": "code",
   "execution_count": 1,
   "id": "17458e11-68e4-45c3-8d70-8625f2d00d85",
   "metadata": {
    "tags": []
   },
   "outputs": [
    {
     "data": {
      "text/plain": [
       "17"
      ]
     },
     "execution_count": 1,
     "metadata": {},
     "output_type": "execute_result"
    }
   ],
   "source": [
    "(3*4)+5"
   ]
  },
  {
   "cell_type": "code",
   "execution_count": 2,
   "id": "b2c5f944-f502-4e70-b9e9-ab70d8b5f2ba",
   "metadata": {
    "tags": []
   },
   "outputs": [
    {
     "name": "stdout",
     "output_type": "stream",
     "text": [
      "3.3333333333333335\n"
     ]
    }
   ],
   "source": [
    "# This will convert 200 minutes to hours by diving by 60\n",
    "\n",
    "m=200\n",
    "h = m/60\n",
    "print(h)\n"
   ]
  },
  {
   "cell_type": "markdown",
   "id": "83acc95d-69be-4ba3-aaf4-af8a8985aa97",
   "metadata": {},
   "source": [
    "**Objectives:**\n",
    "\n",
    "<h3>List popular languages for Data Science</h3>\n",
    "<ul>\n",
    "<li>Python</li>\n",
    "<li>Java</li>\n",
    "<li>Scala</li>\n",
    "<li>Julia</li>\n",
    "<li>SQL</li>\n",
    "</ul>\n",
    "\n"
   ]
  },
  {
   "cell_type": "markdown",
   "id": "4cc74ef9-5c77-42e2-bcfd-0e6aff0a07ee",
   "metadata": {},
   "source": [
    "**Objectives:**\n",
    "\n",
    "<h3>List popular languages for Data Science</h3>\n",
    "<ul>\n",
    "<li>Python</li>\n",
    "<li>Java</li>\n",
    "<li>Scala</li>\n",
    "<li>Julia</li>\n",
    "<li>SQL</li>\n",
    "</ul>"
   ]
  },
  {
   "cell_type": "code",
   "execution_count": null,
   "id": "c57c2116-8282-4d27-92df-da6987503c8d",
   "metadata": {},
   "outputs": [],
   "source": []
  }
 ],
 "metadata": {
  "kernelspec": {
   "display_name": "Python",
   "language": "python",
   "name": "conda-env-python-py"
  },
  "language_info": {
   "codemirror_mode": {
    "name": "ipython",
    "version": 3
   },
   "file_extension": ".py",
   "mimetype": "text/x-python",
   "name": "python",
   "nbconvert_exporter": "python",
   "pygments_lexer": "ipython3",
   "version": "3.7.12"
  }
 },
 "nbformat": 4,
 "nbformat_minor": 5
}
